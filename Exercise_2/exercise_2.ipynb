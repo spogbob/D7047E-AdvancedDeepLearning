{
 "cells": [
  {
   "cell_type": "markdown",
   "metadata": {
    "collapsed": true,
    "pycharm": {
     "name": "#%% md\n"
    }
   },
   "source": [
    "# Exercise 1"
   ]
  },
  {
   "cell_type": "code",
   "execution_count": 17,
   "outputs": [],
   "source": [
    "import torch\n",
    "import torchvision\n",
    "import torchvision.transforms as transforms\n",
    "import torch.nn as nn\n",
    "import torch.nn.functional as F\n",
    "import torch.optim as optim\n",
    "import copy\n",
    "\n",
    "# Tensorboard for visualizing\n",
    "from torch.utils.tensorboard import SummaryWriter"
   ],
   "metadata": {
    "collapsed": false,
    "pycharm": {
     "name": "#%%\n"
    }
   }
  },
  {
   "cell_type": "markdown",
   "source": [
    "### Import CIFAR-10"
   ],
   "metadata": {
    "collapsed": false
   }
  },
  {
   "cell_type": "code",
   "execution_count": 14,
   "outputs": [
    {
     "name": "stdout",
     "output_type": "stream",
     "text": [
      "Files already downloaded and verified\n",
      "Files already downloaded and verified\n"
     ]
    }
   ],
   "source": [
    "transform = transforms.Compose([transforms.Resize(224),\n",
    "                                transforms.ToTensor(),\n",
    "                                transforms.Normalize((0.5, 0.5, 0.5), (0.5, 0.5, 0.5))])\n",
    "\n",
    "trainset = torchvision.datasets.CIFAR10(root=\"../CIFAR10/\",\n",
    "                                        train=True,\n",
    "                                        download=True,\n",
    "                                        transform=transform)\n",
    "train_len = int(len(trainset) * 0.8)\n",
    "val_len = len(trainset) - train_len\n",
    "trainset, validationset = torch.utils.data.random_split(trainset, [train_len, val_len])\n",
    "trainloader = torch.utils.data.DataLoader(trainset,\n",
    "                                          batch_size=4,\n",
    "                                          shuffle=True)\n",
    "validationloader = torch.utils.data.DataLoader(validationset,\n",
    "                                          batch_size=1,\n",
    "                                          shuffle=True)\n",
    "testset = torchvision.datasets.CIFAR10(root='../CIFAR10/',\n",
    "                                       train=False,\n",
    "                                       download=True,\n",
    "                                       transform=transform)\n",
    "testloader = torch.utils.data.DataLoader(testset,\n",
    "                                         batch_size=1,\n",
    "                                         shuffle=False)\n"
   ],
   "metadata": {
    "collapsed": false,
    "pycharm": {
     "name": "#%%\n"
    }
   }
  },
  {
   "cell_type": "markdown",
   "source": [
    "### CNN"
   ],
   "metadata": {
    "collapsed": false
   }
  },
  {
   "cell_type": "code",
   "execution_count": 15,
   "outputs": [
    {
     "name": "stderr",
     "output_type": "stream",
     "text": [
      "Using cache found in /Users/simon/.cache/torch/hub/pytorch_vision_v0.10.0\n"
     ]
    }
   ],
   "source": [
    "model = torch.hub.load('pytorch/vision:v0.10.0', 'alexnet', pretrained=True);\n",
    "\n",
    "num_ftrs = model.classifier[6].in_features\n",
    "model.classifier[6] = nn.Linear(num_ftrs,10)\n",
    "\n",
    "device = torch.device(\"cuda:0\" if torch.cuda.is_available() else \"cpu\")\n",
    "\n",
    "model = model.to(device)\n",
    "\n",
    "# Loss function\n",
    "criterion = nn.CrossEntropyLoss()\n",
    "# Optimizer\n",
    "optimizer = optim.SGD(model.parameters(), lr=0.0001)\n",
    "\n",
    "writer = SummaryWriter()"
   ],
   "metadata": {
    "collapsed": false,
    "pycharm": {
     "name": "#%%\n"
    }
   }
  },
  {
   "cell_type": "markdown",
   "source": [
    "### Training"
   ],
   "metadata": {
    "collapsed": false
   }
  },
  {
   "cell_type": "code",
   "execution_count": 19,
   "outputs": [
    {
     "name": "stdout",
     "output_type": "stream",
     "text": [
      "Epoch 1 [10000/10000] - Loss: 2.07856297492980968, accuracy:  0.7728\n"
     ]
    },
    {
     "ename": "NameError",
     "evalue": "name 'best_accuracy' is not defined",
     "output_type": "error",
     "traceback": [
      "\u001B[0;31m---------------------------------------------------------------------------\u001B[0m",
      "\u001B[0;31mNameError\u001B[0m                                 Traceback (most recent call last)",
      "Input \u001B[0;32mIn [19]\u001B[0m, in \u001B[0;36m<cell line: 1>\u001B[0;34m()\u001B[0m\n\u001B[1;32m     31\u001B[0m writer\u001B[38;5;241m.\u001B[39madd_scalar(\u001B[38;5;124m\"\u001B[39m\u001B[38;5;124mValidation/train\u001B[39m\u001B[38;5;124m\"\u001B[39m, correct\u001B[38;5;241m/\u001B[39mtotal, epoch)\n\u001B[1;32m     32\u001B[0m \u001B[38;5;28mprint\u001B[39m(\u001B[38;5;124m\"\u001B[39m\u001B[38;5;124m, accuracy: \u001B[39m\u001B[38;5;124m\"\u001B[39m, correct\u001B[38;5;241m/\u001B[39mtotal)\n\u001B[0;32m---> 33\u001B[0m \u001B[38;5;28;01mif\u001B[39;00m correct \u001B[38;5;241m/\u001B[39m total \u001B[38;5;241m>\u001B[39m \u001B[43mbest_accuracy\u001B[49m:\n\u001B[1;32m     34\u001B[0m     best_accuracy \u001B[38;5;241m=\u001B[39m correct \u001B[38;5;241m/\u001B[39m total\n\u001B[1;32m     35\u001B[0m     best_net \u001B[38;5;241m=\u001B[39m copy\u001B[38;5;241m.\u001B[39mdeepcopy(model)\n",
      "\u001B[0;31mNameError\u001B[0m: name 'best_accuracy' is not defined"
     ]
    }
   ],
   "source": [
    "for epoch in range(1):\n",
    "    running_loss = 0.0\n",
    "    for i, data in enumerate(trainloader, 0):\n",
    "        inputs, labels = data\n",
    "\n",
    "        optimizer.zero_grad()\n",
    "\n",
    "        outputs = model(inputs.to(device))\n",
    "        loss = criterion(outputs, labels.to(device))\n",
    "        writer.add_scalar(\"Loss/train\", loss, epoch)\n",
    "        loss.backward()\n",
    "        optimizer.step()\n",
    "        if(i % 100 == 99):\n",
    "            print(\n",
    "                f'\\rEpoch {epoch+1} [{i+1}/{len(trainloader)}] - Loss: {loss}',\n",
    "                end=''\n",
    "            )\n",
    "\n",
    "    correct = 0\n",
    "    total = 0\n",
    "    for i, data in enumerate(validationloader, 0):\n",
    "        inputs, labels = data\n",
    "        labels = labels\n",
    "\n",
    "        outputs = model(inputs)\n",
    "        pred = torch.argmax(outputs)\n",
    "\n",
    "        if pred.numpy() == labels[0].numpy():\n",
    "            correct += 1\n",
    "        total += 1\n",
    "    writer.add_scalar(\"Validation/train\", correct/total, epoch)\n",
    "    print(\", accuracy: \", correct/total)\n",
    "    if correct / total > best_accuracy:\n",
    "        best_accuracy = correct / total\n",
    "        best_net = copy.deepcopy(model)\n",
    "        print(\" (new best)\")\n",
    "\n",
    "print('Finished Training')\n",
    "writer.flush()"
   ],
   "metadata": {
    "collapsed": false,
    "pycharm": {
     "name": "#%%\n"
    }
   }
  },
  {
   "cell_type": "markdown",
   "source": [
    "### Test"
   ],
   "metadata": {
    "collapsed": false
   }
  },
  {
   "cell_type": "code",
   "execution_count": 20,
   "outputs": [
    {
     "name": "stdout",
     "output_type": "stream",
     "text": [
      "0.7667\n"
     ]
    }
   ],
   "source": [
    "correct = 0\n",
    "total = 0\n",
    "for i, data in enumerate(testloader, 0):\n",
    "    inputs, labels = data\n",
    "\n",
    "    outputs = model(inputs)\n",
    "    pred = torch.argmax(outputs)\n",
    "\n",
    "    if pred.numpy() == labels[0].numpy():\n",
    "        correct += 1\n",
    "    total += 1\n",
    "\n",
    "print(correct/total)"
   ],
   "metadata": {
    "collapsed": false,
    "pycharm": {
     "name": "#%%\n"
    }
   }
  },
  {
   "cell_type": "code",
   "execution_count": null,
   "outputs": [],
   "source": [],
   "metadata": {
    "collapsed": false,
    "pycharm": {
     "name": "#%%\n"
    }
   }
  }
 ],
 "metadata": {
  "kernelspec": {
   "display_name": "Python 3",
   "language": "python",
   "name": "python3"
  },
  "language_info": {
   "codemirror_mode": {
    "name": "ipython",
    "version": 2
   },
   "file_extension": ".py",
   "mimetype": "text/x-python",
   "name": "python",
   "nbconvert_exporter": "python",
   "pygments_lexer": "ipython2",
   "version": "2.7.6"
  }
 },
 "nbformat": 4,
 "nbformat_minor": 0
}