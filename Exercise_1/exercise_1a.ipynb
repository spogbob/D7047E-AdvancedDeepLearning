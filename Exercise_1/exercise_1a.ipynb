{
 "cells": [
  {
   "cell_type": "markdown",
   "metadata": {},
   "source": [
    "# Exercise 1"
   ]
  },
  {
   "cell_type": "code",
   "execution_count": 7,
   "metadata": {},
   "outputs": [],
   "source": [
    "import copy\n",
    "\n",
    "import torch\n",
    "import torchvision\n",
    "import torchvision.transforms as transforms\n",
    "import torch.nn as nn\n",
    "import torch.nn.functional as F\n",
    "import torch.optim as optim\n",
    "\n",
    "# Tensorboard for visualizing\n",
    "from torch.utils.tensorboard import SummaryWriter"
   ]
  },
  {
   "cell_type": "markdown",
   "metadata": {},
   "source": [
    "### Import CIFAR-10"
   ]
  },
  {
   "cell_type": "code",
   "execution_count": 8,
   "metadata": {},
   "outputs": [
    {
     "name": "stdout",
     "output_type": "stream",
     "text": [
      "Files already downloaded and verified\n",
      "Files already downloaded and verified\n"
     ]
    }
   ],
   "source": [
    "transform = transforms.Compose([transforms.ToTensor(),\n",
    "                                transforms.Normalize((0.5, 0.5, 0.5), (0.5, 0.5, 0.5))])\n",
    "\n",
    "trainset = torchvision.datasets.CIFAR10(root=\"../CIFAR10/\", \n",
    "                                        train=True, \n",
    "                                        download=True, \n",
    "                                        transform=transform)\n",
    "train_len = int(len(trainset) * 0.8)\n",
    "val_len = len(trainset) - train_len\n",
    "trainset, validationset = torch.utils.data.random_split(trainset, [train_len, val_len])\n",
    "trainloader = torch.utils.data.DataLoader(trainset, \n",
    "                                          batch_size=4, \n",
    "                                          shuffle=True)\n",
    "validationloader = torch.utils.data.DataLoader(validationset,\n",
    "                                          batch_size=1,\n",
    "                                          shuffle=True)\n",
    "testset = torchvision.datasets.CIFAR10(root='../CIFAR10/', \n",
    "                                       train=False,\n",
    "                                       download=True, \n",
    "                                       transform=transform)\n",
    "testloader = torch.utils.data.DataLoader(testset, \n",
    "                                         batch_size=1,\n",
    "                                         shuffle=False)\n",
    "\n"
   ]
  },
  {
   "cell_type": "markdown",
   "metadata": {},
   "source": [
    "### CNN"
   ]
  },
  {
   "cell_type": "code",
   "execution_count": 9,
   "metadata": {},
   "outputs": [],
   "source": [
    "class Net(torch.nn.Module):\n",
    "    def __init__(self):\n",
    "        super().__init__()\n",
    "\n",
    "        self.conv1 = nn.Conv2d(3, 6, 5)\n",
    "        self.pool = nn.MaxPool2d(2, 2)\n",
    "        self.conv2 = nn.Conv2d(6, 16, 5)\n",
    "        self.fc1 = nn.Linear(16 * 5 * 5, 84)\n",
    "        #self.fc2 = nn.Linear(120, 84)\n",
    "        self.fc2 = nn.Linear(84, 10)\n",
    "\n",
    "    def forward(self, x):\n",
    "        x = self.pool(F.leaky_relu(self.conv1(x)))\n",
    "        x = self.pool(F.leaky_relu(self.conv2(x)))\n",
    "        x = torch.flatten(x, 1)\n",
    "        x = F.leaky_relu(self.fc1(x))\n",
    "        #x = F.leaky_relu(self.fc2(x))\n",
    "        x = self.fc2(x)\n",
    "\n",
    "        return x\n",
    "\n",
    "net = Net()\n",
    "\n",
    "# Loss function\n",
    "criterion = nn.CrossEntropyLoss()\n",
    "# Optimizer\n",
    "optimizer = optim.SGD(net.parameters(), lr=0.0001)\n",
    "\n",
    "writer = SummaryWriter()\n",
    "\n"
   ]
  },
  {
   "cell_type": "markdown",
   "metadata": {},
   "source": [
    "### Training"
   ]
  },
  {
   "cell_type": "code",
   "execution_count": 10,
   "metadata": {},
   "outputs": [
    {
     "name": "stdout",
     "output_type": "stream",
     "text": [
      "Epoch 1 [10000/10000] - Loss: 2.2865567207336426, accuracy:  0.0912\n",
      " (new best)\n",
      "Epoch 2 [10000/10000] - Loss: 2.2717552185058594, accuracy:  0.1627\n",
      " (new best)\n",
      "Epoch 3 [10000/10000] - Loss: 2.2479076385498047, accuracy:  0.1759\n",
      " (new best)\n",
      "Epoch 4 [10000/10000] - Loss: 2.122739315032959, accuracy:  0.1815\n",
      " (new best)\n",
      "Epoch 5 [10000/10000] - Loss: 2.3782994747161865, accuracy:  0.221\n",
      " (new best)\n",
      "Epoch 6 [10000/10000] - Loss: 1.7953717708587646, accuracy:  0.2549\n",
      " (new best)\n",
      "Epoch 7 [10000/10000] - Loss: 1.9492322206497192, accuracy:  0.2772\n",
      " (new best)\n",
      "Epoch 8 [10000/10000] - Loss: 2.1912784576416016, accuracy:  0.2984\n",
      " (new best)\n",
      "Epoch 9 [10000/10000] - Loss: 2.1148436069488525, accuracy:  0.315\n",
      " (new best)\n",
      "Epoch 10 [10000/10000] - Loss: 1.537197232246399, accuracy:  0.3246\n",
      " (new best)\n",
      "Epoch 11 [10000/10000] - Loss: 1.5888915061950684, accuracy:  0.3409\n",
      " (new best)\n",
      "Epoch 12 [10000/10000] - Loss: 2.117799758911133, accuracy:  0.3551\n",
      " (new best)\n",
      "Epoch 13 [10000/10000] - Loss: 2.0850555896759033, accuracy:  0.3678\n",
      " (new best)\n",
      "Epoch 14 [10000/10000] - Loss: 2.078486442565918, accuracy:  0.3819\n",
      " (new best)\n",
      "Epoch 15 [10000/10000] - Loss: 1.5979108810424805, accuracy:  0.3887\n",
      " (new best)\n",
      "\n",
      "Finished Training\n"
     ]
    }
   ],
   "source": [
    "best_accuracy = 0\n",
    "best_net = 0\n",
    "for epoch in range(15):\n",
    "    running_loss = 0.0\n",
    "    for i, data in enumerate(trainloader, 0):\n",
    "        inputs, labels = data\n",
    "\n",
    "        optimizer.zero_grad()\n",
    "\n",
    "        outputs = net(inputs)\n",
    "        loss = criterion(outputs, labels)\n",
    "        \n",
    "        loss.backward()\n",
    "        optimizer.step()\n",
    "        if(i % 100 == 99):\n",
    "            print(\n",
    "                f'\\rEpoch {epoch+1} [{i+1}/{len(trainloader)}] - Loss: {loss}',\n",
    "                end=''\n",
    "            )\n",
    "    writer.add_scalar(\"Loss/train\", loss, epoch)\n",
    "    \n",
    "    correct = 0\n",
    "    total = 0\n",
    "    for i, data in enumerate(validationloader, 0):\n",
    "        inputs, labels = data\n",
    "        labels = labels\n",
    "\n",
    "        outputs = net(inputs)\n",
    "        pred = torch.argmax(outputs)\n",
    "\n",
    "        if pred.numpy() == labels[0].numpy():\n",
    "            correct += 1\n",
    "        total += 1\n",
    "    writer.add_scalar(\"Validation/train\", correct/total, epoch)\n",
    "    print(\", accuracy: \", correct/total)\n",
    "    if correct / total > best_accuracy:\n",
    "        best_accuracy = correct / total\n",
    "        best_net = copy.deepcopy(net)\n",
    "        print(\" (new best)\")\n",
    "\n",
    "print('\\nFinished Training')\n",
    "writer.flush()"
   ]
  },
  {
   "cell_type": "markdown",
   "metadata": {},
   "source": [
    "![Picture missing](1a.png \"Validation accuracy each epoch\")"
   ]
  },
  {
   "cell_type": "markdown",
   "metadata": {},
   "source": [
    "### Test"
   ]
  },
  {
   "cell_type": "code",
   "execution_count": 11,
   "metadata": {},
   "outputs": [
    {
     "name": "stdout",
     "output_type": "stream",
     "text": [
      "0.4017\n"
     ]
    }
   ],
   "source": [
    "correct = 0\n",
    "total = 0\n",
    "for i, data in enumerate(testloader, 0):\n",
    "    inputs, labels = data\n",
    "\n",
    "    outputs = best_net(inputs)\n",
    "    pred = torch.argmax(outputs)\n",
    "\n",
    "    if pred.numpy() == labels[0].numpy():\n",
    "        correct += 1\n",
    "    total += 1\n",
    "\n",
    "print(correct/total)"
   ]
  },
  {
   "cell_type": "code",
   "execution_count": null,
   "metadata": {},
   "outputs": [],
   "source": []
  }
 ],
 "metadata": {
  "interpreter": {
   "hash": "13fb124c09dbfca57c852269d5f2ecb702c179b2dd86f34cd0a7cb82b6305be0"
  },
  "kernelspec": {
   "display_name": "Python 3.9.12 ('venv': venv)",
   "language": "python",
   "name": "python3"
  },
  "language_info": {
   "codemirror_mode": {
    "name": "ipython",
    "version": 3
   },
   "file_extension": ".py",
   "mimetype": "text/x-python",
   "name": "python",
   "nbconvert_exporter": "python",
   "pygments_lexer": "ipython3",
   "version": "3.9.12"
  },
  "orig_nbformat": 4
 },
 "nbformat": 4,
 "nbformat_minor": 2
}
