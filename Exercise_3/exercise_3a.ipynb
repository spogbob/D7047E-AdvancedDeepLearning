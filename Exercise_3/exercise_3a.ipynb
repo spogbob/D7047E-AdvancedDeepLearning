{
 "cells": [
  {
   "cell_type": "markdown",
   "metadata": {
    "collapsed": false
   },
   "source": [
    "# Exercise 3a"
   ]
  },
  {
   "cell_type": "code",
   "execution_count": 15,
   "metadata": {
    "collapsed": true
   },
   "outputs": [],
   "source": [
    "import torch\n",
    "import torchvision\n",
    "import torchvision.transforms as transforms\n",
    "import torch.nn as nn\n",
    "import torch.nn.functional as F\n",
    "import torch.optim as optim\n",
    "import copy\n",
    "from sklearn.manifold import TSNE\n",
    "from sklearn.decomposition import PCA\n",
    "\n",
    "# Tensorboard for visualizing\n",
    "from torch.utils.tensorboard import SummaryWriter"
   ]
  },
  {
   "cell_type": "markdown",
   "metadata": {
    "collapsed": false
   },
   "source": [
    "### Load dataset"
   ]
  },
  {
   "cell_type": "code",
   "execution_count": 16,
   "metadata": {
    "collapsed": false,
    "pycharm": {
     "name": "#%%\n"
    }
   },
   "outputs": [],
   "source": [
    "trainset = torchvision.datasets.MNIST('./files/', train=True, download=True,\n",
    "                             transform=torchvision.transforms.Compose([\n",
    "                               torchvision.transforms.ToTensor(),\n",
    "                               torchvision.transforms.Normalize(\n",
    "                                 (0.1307,), (0.3081,))\n",
    "                             ]))\n",
    "\n",
    "train_len = int(len(trainset) * 0.8)\n",
    "val_len = len(trainset) - train_len\n",
    "trainset, validationset = torch.utils.data.random_split(trainset, [train_len, val_len])\n",
    "\n",
    "train_loader = torch.utils.data.DataLoader(trainset,\n",
    "                             batch_size=4, shuffle=True)\n",
    "\n",
    "val_loader = torch.utils.data.DataLoader(validationset,\n",
    "                             batch_size=1, shuffle=True)\n",
    "\n",
    "test_loader = torch.utils.data.DataLoader(\n",
    "  torchvision.datasets.MNIST('./files/', train=False, download=True,\n",
    "                             transform=torchvision.transforms.Compose([\n",
    "                               torchvision.transforms.ToTensor(),\n",
    "                               torchvision.transforms.Normalize(\n",
    "                                 (0.1307,), (0.3081,))\n",
    "                             ])),\n",
    "                             batch_size=1, shuffle=True)"
   ]
  },
  {
   "cell_type": "markdown",
   "metadata": {
    "collapsed": false
   },
   "source": [
    "### Model"
   ]
  },
  {
   "cell_type": "code",
   "execution_count": 17,
   "metadata": {
    "collapsed": false,
    "pycharm": {
     "name": "#%%\n"
    }
   },
   "outputs": [],
   "source": [
    "class Net(torch.nn.Module):\n",
    "    def __init__(self):\n",
    "        super().__init__()\n",
    "\n",
    "        self.conv1 = nn.Conv2d(1, 6, 4)\n",
    "        self.pool = nn.MaxPool2d(2, 2)\n",
    "        self.conv2 = nn.Conv2d(6, 16, 4)\n",
    "        self.fc1 = nn.Linear(16 * 4 * 4, 84)\n",
    "        #self.fc2 = nn.Linear(120, 84)\n",
    "        self.fc2 = nn.Linear(84, 10)\n",
    "\n",
    "        #self.feature_map = []\n",
    "\n",
    "    def forward(self, x, fully_connected):\n",
    "        x = self.pool(F.leaky_relu(self.conv1(x)))\n",
    "        x = self.pool(F.leaky_relu(self.conv2(x)))\n",
    "        #self.feature_map = x\n",
    "        x = torch.flatten(x, 1)\n",
    "        if fully_connected == 1:\n",
    "            x = F.leaky_relu(self.fc1(x))\n",
    "            #x = F.leaky_relu(self.fc2(x))\n",
    "            x = self.fc2(x)\n",
    "\n",
    "        return x\n",
    "model = Net()\n",
    "\n",
    "# Loss function\n",
    "criterion = nn.CrossEntropyLoss()\n",
    "# Optimizer\n",
    "optimizer = optim.Adam(model.parameters(), lr=0.000001)\n",
    "\n",
    "writer = SummaryWriter()"
   ]
  },
  {
   "cell_type": "markdown",
   "metadata": {
    "collapsed": false
   },
   "source": [
    "### Training"
   ]
  },
  {
   "cell_type": "code",
   "execution_count": 18,
   "metadata": {
    "collapsed": false,
    "pycharm": {
     "name": "#%%\n"
    }
   },
   "outputs": [
    {
     "name": "stdout",
     "output_type": "stream",
     "text": [
      "Epoch 1 [12000/12000] - Loss: 2.2158010005950928, accuracy:  0.36025\n",
      " (new best)\n",
      "Finished Training\n"
     ]
    }
   ],
   "source": [
    "best_accuracy = 0\n",
    "best_net = 0\n",
    "\n",
    "for epoch in range(1):\n",
    "    running_loss = 0.0\n",
    "    for i, data in enumerate(train_loader, 0):\n",
    "        inputs, labels = data\n",
    "\n",
    "        optimizer.zero_grad()\n",
    "\n",
    "        outputs = model(inputs, 1)\n",
    "        loss = criterion(outputs, labels)\n",
    "        writer.add_scalar(\"Loss/train 1\", loss, epoch)\n",
    "        loss.backward()\n",
    "        optimizer.step()\n",
    "        if(i % 100 == 99):\n",
    "            print(\n",
    "                f'\\rEpoch {epoch+1} [{i+1}/{len(train_loader)}] - Loss: {loss}',\n",
    "                end=''\n",
    "            )\n",
    "\n",
    "    correct = 0\n",
    "    total = 0\n",
    "    for i, data in enumerate(val_loader, 0):\n",
    "        inputs, labels = data\n",
    "        labels = labels\n",
    "\n",
    "        outputs = model(inputs, 1)\n",
    "        pred = torch.argmax(outputs)\n",
    "\n",
    "        if pred.numpy() == labels[0].numpy():\n",
    "            correct += 1\n",
    "        total += 1\n",
    "    writer.add_scalar(\"Validation/train 1\", correct/total, epoch)\n",
    "    print(\", accuracy: \", correct/total)\n",
    "    if correct / total > best_accuracy:\n",
    "        best_accuracy = correct / total\n",
    "        best_net = copy.deepcopy(model)\n",
    "        print(\" (new best)\")\n",
    "\n",
    "print('Finished Training')\n",
    "writer.flush()"
   ]
  },
  {
   "cell_type": "markdown",
   "metadata": {
    "collapsed": false
   },
   "source": [
    "### Test"
   ]
  },
  {
   "cell_type": "code",
   "execution_count": 19,
   "metadata": {
    "collapsed": false,
    "pycharm": {
     "name": "#%%\n"
    }
   },
   "outputs": [
    {
     "name": "stdout",
     "output_type": "stream",
     "text": [
      "0.3437\n"
     ]
    }
   ],
   "source": [
    "correct = 0\n",
    "total = 0\n",
    "for i, data in enumerate(test_loader, 0):\n",
    "    inputs, labels = data\n",
    "\n",
    "    outputs = best_net(inputs, 1)\n",
    "    pred = torch.argmax(outputs)\n",
    "\n",
    "    if pred.numpy() == labels[0].numpy():\n",
    "        correct += 1\n",
    "    total += 1\n",
    "\n",
    "print(correct/total)"
   ]
  },
  {
   "cell_type": "markdown",
   "source": [],
   "metadata": {
    "collapsed": false
   }
  },
  {
   "cell_type": "code",
   "execution_count": 31,
   "outputs": [
    {
     "name": "stdout",
     "output_type": "stream",
     "text": [
      "tensor([[-3.6058e-04,  5.3648e-02,  7.4693e-01,  5.0857e-01,  1.7716e-02,\n",
      "         -2.0981e-03,  6.9483e-01,  9.0148e-02, -1.4849e-04,  4.1343e-02,\n",
      "          7.4992e-01, -6.9993e-04, -4.7023e-04,  1.7200e-01,  8.9396e-01,\n",
      "         -2.4341e-03,  3.3136e-01,  4.4328e-01,  4.2572e-01,  4.0186e-01,\n",
      "          3.8257e-01,  4.9663e-01,  2.8083e-01,  3.1433e-01,  5.4716e-01,\n",
      "          2.4557e-01,  4.1934e-01,  4.1658e-01,  5.4916e-01,  4.4743e-01,\n",
      "          3.0911e-01,  5.4615e-01,  4.5199e-02,  4.7579e-01,  3.4794e-01,\n",
      "          5.6238e-01,  2.6141e-01,  4.8746e-01,  7.7209e-01,  4.9273e-01,\n",
      "          3.0482e-01,  4.5822e-01,  7.2758e-01,  4.3915e-01,  4.6673e-01,\n",
      "          3.1089e-01,  6.9802e-01,  4.8976e-01, -1.4121e-03, -1.8047e-03,\n",
      "         -3.3777e-03,  4.9360e-01, -1.1944e-03, -3.1888e-03,  1.9287e-01,\n",
      "          6.3381e-01, -5.4752e-04, -7.4343e-03,  5.7672e-01,  5.1188e-01,\n",
      "         -1.0669e-03, -7.0064e-03,  7.1688e-01,  2.6511e-01,  3.1824e-02,\n",
      "          5.1699e-01,  6.6361e-01,  7.3753e-01,  1.3331e-01,  7.0813e-01,\n",
      "          8.2761e-01,  2.8970e-01,  1.2507e-01,  7.8296e-01,  4.8183e-01,\n",
      "          4.6273e-01,  2.4399e-01,  9.2565e-01,  6.0498e-01,  5.0690e-01,\n",
      "          1.9951e-01,  3.8124e-01,  7.0779e-01,  7.7505e-01,  1.7511e-01,\n",
      "          5.1588e-01,  8.7955e-01,  8.3936e-01,  1.6495e-01,  6.1919e-01,\n",
      "          8.5778e-01,  5.7170e-01,  1.1582e-01,  6.4229e-01,  8.7170e-01,\n",
      "          5.2633e-01, -1.7730e-03, -7.8629e-04, -3.4401e-03,  7.2509e-01,\n",
      "         -1.4944e-03, -1.7575e-03,  6.2587e-01,  6.7583e-01, -1.7730e-03,\n",
      "         -2.6960e-03,  9.3756e-01,  3.7484e-01, -1.2484e-03, -3.7058e-03,\n",
      "          7.7264e-01,  1.6986e-01,  3.7566e-03,  3.3375e-01, -3.7561e-04,\n",
      "          2.8196e-01,  3.7514e-03,  3.3954e-01, -5.8725e-04,  4.7249e-01,\n",
      "          2.6341e-02,  3.6323e-01,  2.7500e-01,  2.9128e-01,  3.6995e-02,\n",
      "          2.3548e-01,  4.2373e-01,  3.5566e-01,  2.3134e-01,  2.7942e-01,\n",
      "          2.1133e-01,  1.3627e-01,  2.5184e-01,  4.1339e-02,  5.0607e-02,\n",
      "          2.0517e-01,  2.3221e-01, -1.6169e-03, -9.2199e-04,  7.3321e-02,\n",
      "          2.7318e-01, -4.3290e-03,  8.9972e-02,  1.4011e-02,  1.2695e-01,\n",
      "          4.2628e-01,  6.0806e-01, -2.6106e-03,  2.0224e-01,  4.2963e-01,\n",
      "          3.7473e-01, -1.7142e-03,  2.6801e-01,  5.6212e-01, -1.1425e-03,\n",
      "          2.1048e-01,  3.5641e-01,  5.1016e-01, -3.1038e-03,  3.7947e-01,\n",
      "         -6.1798e-04, -1.9200e-03,  6.8983e-01,  4.6700e-01, -6.3008e-04,\n",
      "         -1.7266e-03,  6.4438e-01,  2.0161e-01, -8.2727e-04,  1.2715e-01,\n",
      "          4.6921e-01,  9.4915e-03, -1.4508e-03,  2.5024e-01,  5.6456e-01,\n",
      "          9.4134e-04, -1.1703e-04,  3.1755e-01,  7.2343e-01,  1.3038e-02,\n",
      "         -1.0377e-04,  6.5174e-01,  5.6980e-01, -7.6443e-04, -4.1477e-04,\n",
      "          7.5493e-01,  1.9159e-01,  3.2543e-01,  4.5728e-03,  6.7061e-01,\n",
      "          1.9509e-02,  3.5086e-01, -8.6487e-04,  4.3584e-02,  5.2022e-01,\n",
      "          3.6642e-02,  1.3445e-02,  2.0372e-01,  6.6268e-01, -1.0309e-03,\n",
      "         -3.3952e-04,  7.3067e-01,  6.6036e-01, -5.6298e-04, -3.9562e-04,\n",
      "          9.3717e-01,  6.2889e-01,  3.1011e-02,  1.2633e-01,  1.1286e-01,\n",
      "          5.8445e-01,  1.0515e+00,  1.6599e-01,  4.6887e-02,  1.0924e+00,\n",
      "          1.0654e+00,  9.1688e-02,  2.3005e-01,  1.1811e+00,  8.0530e-01,\n",
      "          1.1255e-01,  3.2994e-01,  1.0351e+00,  3.9616e-01,  2.0065e-02,\n",
      "         -9.7302e-04, -2.2524e-03,  5.9825e-01,  2.0060e-02, -1.3303e-03,\n",
      "          5.2246e-01,  4.8489e-01, -4.5708e-04,  6.2088e-02,  5.5345e-01,\n",
      "          2.6790e-01, -4.4210e-04, -5.3603e-04,  4.3784e-01,  2.2701e-01,\n",
      "          1.7374e-01,  1.9779e-01,  5.0568e-01,  5.4906e-01,  1.8082e-01,\n",
      "          3.0486e-01,  6.1450e-01,  5.5814e-01,  1.7319e-01,  6.3534e-01,\n",
      "          2.6840e-01,  5.9781e-01,  1.8025e-01,  6.1378e-01,  4.7167e-01,\n",
      "          3.2250e-01]], grad_fn=<ReshapeAliasBackward0>)\n"
     ]
    }
   ],
   "source": [
    "data, labels = next(iter(train_loader))\n",
    "out = model(inputs, 0)\n",
    "\n"
   ],
   "metadata": {
    "collapsed": false,
    "pycharm": {
     "name": "#%%\n"
    }
   }
  },
  {
   "cell_type": "markdown",
   "source": [
    "### PCA"
   ],
   "metadata": {
    "collapsed": false
   }
  },
  {
   "cell_type": "code",
   "execution_count": 30,
   "outputs": [
    {
     "ename": "ValueError",
     "evalue": "n_components=2 must be between 0 and min(n_samples, n_features)=1 with svd_solver='full'",
     "output_type": "error",
     "traceback": [
      "\u001B[0;31m---------------------------------------------------------------------------\u001B[0m",
      "\u001B[0;31mValueError\u001B[0m                                Traceback (most recent call last)",
      "Input \u001B[0;32mIn [30]\u001B[0m, in \u001B[0;36m<cell line: 2>\u001B[0;34m()\u001B[0m\n\u001B[1;32m      1\u001B[0m pca \u001B[38;5;241m=\u001B[39m PCA(n_components\u001B[38;5;241m=\u001B[39m\u001B[38;5;241m2\u001B[39m)\n\u001B[0;32m----> 2\u001B[0m pca_result \u001B[38;5;241m=\u001B[39m \u001B[43mpca\u001B[49m\u001B[38;5;241;43m.\u001B[39;49m\u001B[43mfit_transform\u001B[49m\u001B[43m(\u001B[49m\u001B[43mout\u001B[49m\u001B[38;5;241;43m.\u001B[39;49m\u001B[43mdetach\u001B[49m\u001B[43m(\u001B[49m\u001B[43m)\u001B[49m\u001B[38;5;241;43m.\u001B[39;49m\u001B[43mnumpy\u001B[49m\u001B[43m(\u001B[49m\u001B[43m)\u001B[49m\u001B[43m)\u001B[49m\n",
      "File \u001B[0;32m~/Documents/D7047E-AdvancedDeepLearning/venv/lib/python3.8/site-packages/sklearn/decomposition/_pca.py:407\u001B[0m, in \u001B[0;36mPCA.fit_transform\u001B[0;34m(self, X, y)\u001B[0m\n\u001B[1;32m    385\u001B[0m \u001B[38;5;28;01mdef\u001B[39;00m \u001B[38;5;21mfit_transform\u001B[39m(\u001B[38;5;28mself\u001B[39m, X, y\u001B[38;5;241m=\u001B[39m\u001B[38;5;28;01mNone\u001B[39;00m):\n\u001B[1;32m    386\u001B[0m     \u001B[38;5;124;03m\"\"\"Fit the model with X and apply the dimensionality reduction on X.\u001B[39;00m\n\u001B[1;32m    387\u001B[0m \n\u001B[1;32m    388\u001B[0m \u001B[38;5;124;03m    Parameters\u001B[39;00m\n\u001B[0;32m   (...)\u001B[0m\n\u001B[1;32m    405\u001B[0m \u001B[38;5;124;03m    C-ordered array, use 'np.ascontiguousarray'.\u001B[39;00m\n\u001B[1;32m    406\u001B[0m \u001B[38;5;124;03m    \"\"\"\u001B[39;00m\n\u001B[0;32m--> 407\u001B[0m     U, S, Vt \u001B[38;5;241m=\u001B[39m \u001B[38;5;28;43mself\u001B[39;49m\u001B[38;5;241;43m.\u001B[39;49m\u001B[43m_fit\u001B[49m\u001B[43m(\u001B[49m\u001B[43mX\u001B[49m\u001B[43m)\u001B[49m\n\u001B[1;32m    408\u001B[0m     U \u001B[38;5;241m=\u001B[39m U[:, : \u001B[38;5;28mself\u001B[39m\u001B[38;5;241m.\u001B[39mn_components_]\n\u001B[1;32m    410\u001B[0m     \u001B[38;5;28;01mif\u001B[39;00m \u001B[38;5;28mself\u001B[39m\u001B[38;5;241m.\u001B[39mwhiten:\n\u001B[1;32m    411\u001B[0m         \u001B[38;5;66;03m# X_new = X * V / S * sqrt(n_samples) = U * sqrt(n_samples)\u001B[39;00m\n",
      "File \u001B[0;32m~/Documents/D7047E-AdvancedDeepLearning/venv/lib/python3.8/site-packages/sklearn/decomposition/_pca.py:457\u001B[0m, in \u001B[0;36mPCA._fit\u001B[0;34m(self, X)\u001B[0m\n\u001B[1;32m    455\u001B[0m \u001B[38;5;66;03m# Call different fits for either full or truncated SVD\u001B[39;00m\n\u001B[1;32m    456\u001B[0m \u001B[38;5;28;01mif\u001B[39;00m \u001B[38;5;28mself\u001B[39m\u001B[38;5;241m.\u001B[39m_fit_svd_solver \u001B[38;5;241m==\u001B[39m \u001B[38;5;124m\"\u001B[39m\u001B[38;5;124mfull\u001B[39m\u001B[38;5;124m\"\u001B[39m:\n\u001B[0;32m--> 457\u001B[0m     \u001B[38;5;28;01mreturn\u001B[39;00m \u001B[38;5;28;43mself\u001B[39;49m\u001B[38;5;241;43m.\u001B[39;49m\u001B[43m_fit_full\u001B[49m\u001B[43m(\u001B[49m\u001B[43mX\u001B[49m\u001B[43m,\u001B[49m\u001B[43m \u001B[49m\u001B[43mn_components\u001B[49m\u001B[43m)\u001B[49m\n\u001B[1;32m    458\u001B[0m \u001B[38;5;28;01melif\u001B[39;00m \u001B[38;5;28mself\u001B[39m\u001B[38;5;241m.\u001B[39m_fit_svd_solver \u001B[38;5;129;01min\u001B[39;00m [\u001B[38;5;124m\"\u001B[39m\u001B[38;5;124marpack\u001B[39m\u001B[38;5;124m\"\u001B[39m, \u001B[38;5;124m\"\u001B[39m\u001B[38;5;124mrandomized\u001B[39m\u001B[38;5;124m\"\u001B[39m]:\n\u001B[1;32m    459\u001B[0m     \u001B[38;5;28;01mreturn\u001B[39;00m \u001B[38;5;28mself\u001B[39m\u001B[38;5;241m.\u001B[39m_fit_truncated(X, n_components, \u001B[38;5;28mself\u001B[39m\u001B[38;5;241m.\u001B[39m_fit_svd_solver)\n",
      "File \u001B[0;32m~/Documents/D7047E-AdvancedDeepLearning/venv/lib/python3.8/site-packages/sklearn/decomposition/_pca.py:475\u001B[0m, in \u001B[0;36mPCA._fit_full\u001B[0;34m(self, X, n_components)\u001B[0m\n\u001B[1;32m    471\u001B[0m         \u001B[38;5;28;01mraise\u001B[39;00m \u001B[38;5;167;01mValueError\u001B[39;00m(\n\u001B[1;32m    472\u001B[0m             \u001B[38;5;124m\"\u001B[39m\u001B[38;5;124mn_components=\u001B[39m\u001B[38;5;124m'\u001B[39m\u001B[38;5;124mmle\u001B[39m\u001B[38;5;124m'\u001B[39m\u001B[38;5;124m is only supported if n_samples >= n_features\u001B[39m\u001B[38;5;124m\"\u001B[39m\n\u001B[1;32m    473\u001B[0m         )\n\u001B[1;32m    474\u001B[0m \u001B[38;5;28;01melif\u001B[39;00m \u001B[38;5;129;01mnot\u001B[39;00m \u001B[38;5;241m0\u001B[39m \u001B[38;5;241m<\u001B[39m\u001B[38;5;241m=\u001B[39m n_components \u001B[38;5;241m<\u001B[39m\u001B[38;5;241m=\u001B[39m \u001B[38;5;28mmin\u001B[39m(n_samples, n_features):\n\u001B[0;32m--> 475\u001B[0m     \u001B[38;5;28;01mraise\u001B[39;00m \u001B[38;5;167;01mValueError\u001B[39;00m(\n\u001B[1;32m    476\u001B[0m         \u001B[38;5;124m\"\u001B[39m\u001B[38;5;124mn_components=\u001B[39m\u001B[38;5;132;01m%r\u001B[39;00m\u001B[38;5;124m must be between 0 and \u001B[39m\u001B[38;5;124m\"\u001B[39m\n\u001B[1;32m    477\u001B[0m         \u001B[38;5;124m\"\u001B[39m\u001B[38;5;124mmin(n_samples, n_features)=\u001B[39m\u001B[38;5;132;01m%r\u001B[39;00m\u001B[38;5;124m with \u001B[39m\u001B[38;5;124m\"\u001B[39m\n\u001B[1;32m    478\u001B[0m         \u001B[38;5;124m\"\u001B[39m\u001B[38;5;124msvd_solver=\u001B[39m\u001B[38;5;124m'\u001B[39m\u001B[38;5;124mfull\u001B[39m\u001B[38;5;124m'\u001B[39m\u001B[38;5;124m\"\u001B[39m \u001B[38;5;241m%\u001B[39m (n_components, \u001B[38;5;28mmin\u001B[39m(n_samples, n_features))\n\u001B[1;32m    479\u001B[0m     )\n\u001B[1;32m    480\u001B[0m \u001B[38;5;28;01melif\u001B[39;00m n_components \u001B[38;5;241m>\u001B[39m\u001B[38;5;241m=\u001B[39m \u001B[38;5;241m1\u001B[39m:\n\u001B[1;32m    481\u001B[0m     \u001B[38;5;28;01mif\u001B[39;00m \u001B[38;5;129;01mnot\u001B[39;00m \u001B[38;5;28misinstance\u001B[39m(n_components, numbers\u001B[38;5;241m.\u001B[39mIntegral):\n",
      "\u001B[0;31mValueError\u001B[0m: n_components=2 must be between 0 and min(n_samples, n_features)=1 with svd_solver='full'"
     ]
    }
   ],
   "source": [
    "pca = PCA(n_components=2)\n",
    "pca_result = pca.fit_transform(out.detach().numpy())"
   ],
   "metadata": {
    "collapsed": false,
    "pycharm": {
     "name": "#%%\n"
    }
   }
  },
  {
   "cell_type": "code",
   "execution_count": null,
   "outputs": [],
   "source": [],
   "metadata": {
    "collapsed": false,
    "pycharm": {
     "name": "#%%\n"
    }
   }
  }
 ],
 "metadata": {
  "kernelspec": {
   "display_name": "Python 3",
   "language": "python",
   "name": "python3"
  },
  "language_info": {
   "codemirror_mode": {
    "name": "ipython",
    "version": 3
   },
   "file_extension": ".py",
   "mimetype": "text/x-python",
   "name": "python",
   "nbconvert_exporter": "python",
   "pygments_lexer": "ipython3",
   "version": "3.8.9"
  }
 },
 "nbformat": 4,
 "nbformat_minor": 0
}